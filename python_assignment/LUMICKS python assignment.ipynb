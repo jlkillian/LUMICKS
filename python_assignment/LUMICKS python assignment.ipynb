{
 "cells": [
  {
   "cell_type": "markdown",
   "metadata": {},
   "source": [
    "# LUMICKS Python Assignment \n",
    "Jessie Killian 02-08-2020 "
   ]
  },
  {
   "cell_type": "markdown",
   "metadata": {},
   "source": [
    "## Contents\n",
    "\n",
    "1. [Module Overview](#Overview)\n",
    "2. [List of Functions](#Functions)\n",
    "3. [Example Code](#Example)"
   ]
  },
  {
   "cell_type": "markdown",
   "metadata": {},
   "source": [
    "## Module Overview<a id='Overview'></a>\n",
    "\n",
    "This notebook details the use of the module \"LUMICKS python assignment.py\" which can be downloaded from [Github](https://github.com/jlkillian/LUMICKS).\n",
    "\n",
    "The module contains functions that enable a user to open a LUMICKS .hdf5 data file, reconstitute an encoded image as a pixel array, save the pixel array as a .png file, and fit a row of the pixel array with a gaussian function to extract its sigma parameter. \n",
    "\n",
    "The module requires the following installed packages:\n",
    "* [numpy](https://numpy.org/)\n",
    "* [h5py](https://www.h5py.org/)\n",
    "* [pypng](https://pypi.org/project/pypng/)\n",
    "* [scipy](https://www.scipy.org/)\n",
    "* [matplotlib](https://matplotlib.org/)"
   ]
  },
  {
   "cell_type": "markdown",
   "metadata": {},
   "source": [
    "## List of Functions<a id='Functions'></a>\n",
    "See code comments on each function for a basic description and definition of inputs. This module is imagined as the start of larger module containing a variety of analysis functions, thus the included functions are written to be flexible/modular rather than specific to the given assignment."
   ]
  },
  {
   "cell_type": "markdown",
   "metadata": {},
   "source": [
    "##### openh5py\n",
    "Opens an hdf5 data file and returns the data group element."
   ]
  },
  {
   "cell_type": "code",
   "execution_count": 125,
   "metadata": {},
   "outputs": [],
   "source": [
    "def openh5py(f):\n",
    "# Returns the data group from an h5py data file\n",
    "# Input: f = data file path\n",
    "    file = h5py.File(f, 'r')\n",
    "    return file['data']"
   ]
  },
  {
   "cell_type": "markdown",
   "metadata": {},
   "source": [
    "##### getpixelarray\n",
    "Converts a data group from an hdf5 file into a 2d array of pixel values."
   ]
  },
  {
   "cell_type": "code",
   "execution_count": 126,
   "metadata": {},
   "outputs": [],
   "source": [
    "def getpixelarray(data):\n",
    "# Returns image pixels as 2d array\n",
    "# Input: data = data group from h5py file\n",
    "    \n",
    "    sensor = data['sensor'] # extract image, mapping data\n",
    "    mapping = data['mapping']\n",
    "    \n",
    "    height = data.attrs['image_height'] # extract image attributes\n",
    "    width = data.attrs['image_width']\n",
    "    \n",
    "    inputarray = np.column_stack((mapping, sensor)) #join sensor and mapping arrays for easy indexing below\n",
    "    \n",
    "    summing = [] # this array stores raw sensor values that need to be accumulated for summing\n",
    "    pixels = [] # this array is appended with the image pixel values once they are summed from the summing array\n",
    "    \n",
    "    for i in inputarray:\n",
    "        if i[0] > 0: # pixels with a mapping value of 0 are ignored\n",
    "            summing.append(i[1]) # each valid sensor value gets added to the summing array\n",
    "            if i[0] == 2: # a sensor value of 2 indicates the pixel is complete\n",
    "                pixels.append(np.sum(summing)) #sum the accumulated values and append to the pixel array \n",
    "                summing = [] # clear out the summing array to start the next pixel\n",
    "                    \n",
    "    return np.reshape(pixels, [height,width]) #return the pixel values as a 2d array"
   ]
  },
  {
   "cell_type": "markdown",
   "metadata": {},
   "source": [
    "##### savepng\n",
    "Saves a 2d array of pixel values as a 16-bit png image."
   ]
  },
  {
   "cell_type": "code",
   "execution_count": 127,
   "metadata": {},
   "outputs": [],
   "source": [
    "def savepng(pixels, f):\n",
    "# Save a 2d array of pixel values as 16-bit png image\n",
    "# Input: pixels = 2d pixel array, f = target save path\n",
    "    png.from_array(pixels, 'L;16').save(f) "
   ]
  },
  {
   "cell_type": "markdown",
   "metadata": {},
   "source": [
    "##### gaussian\n",
    "Defines a gaussian function for fitting:\n",
    "\n",
    "$$f(x)=ae^{-\\left( x-x_{0} \\right)^2 / 2\\sigma^2}+c$$\n",
    "\n",
    "An offset c is included in case of background signal in the image. "
   ]
  },
  {
   "cell_type": "code",
   "execution_count": 128,
   "metadata": {},
   "outputs": [],
   "source": [
    "def gaussian(x,a,x0,s,c):\n",
    "# Defines the gaussian function for fitting.\n",
    "# Input: x = x data array, a = amp, x0 = center, s = sigma, c = offset\n",
    "    return a*exp(-(x-x0)**2/(2*s**2))+c"
   ]
  },
  {
   "cell_type": "markdown",
   "metadata": {},
   "source": [
    "##### fitgaus\n",
    "Fits a pixel value array with a gaussian. Because the corresponding pixel indices (x values) are specified explicitely in the function input, the function accommodates fitting image ROIs and will return the gaussian max in the pixel coordinates of the full image."
   ]
  },
  {
   "cell_type": "code",
   "execution_count": 129,
   "metadata": {},
   "outputs": [],
   "source": [
    "def fitgaus(xdata, ydata):\n",
    "# Fits a 1d pixel value array with a gaussian. Returns the gaussian fit parameters\n",
    "# Input: xdata = 1d array of pixel indices, ydata = 1d array of pixel values\n",
    "\n",
    "    # Define some reasonable first guesses for the fit parameters\n",
    "    cguess = min(ydata)\n",
    "    aguess = max(ydata)-cguess\n",
    "    x0guess = np.argmax(ydata)\n",
    "    sguess = x0guess-next(x for x,y in enumerate(ydata) if y > aguess/2) # distance in pixels from image max to image half-max\n",
    "    \n",
    "    return curve_fit(gaussian, xdata, ydata, p0=[aguess,x0guess,sguess,cguess],bounds=(0, np.inf)) # parameters constrained to >=0"
   ]
  },
  {
   "cell_type": "markdown",
   "metadata": {},
   "source": [
    "##### getsigma\n",
    "If only sigma is needed rather than the full gaussian fit results, this function performs the same fit as **fitgaus** but returns just sigma. It's only here in case you *really* wanted to see a one step fitting function that outputs sigma as per the instructions."
   ]
  },
  {
   "cell_type": "code",
   "execution_count": 130,
   "metadata": {},
   "outputs": [],
   "source": [
    "def getsigma(xdata, ydata):\n",
    "# Returns sigma of gaussian fit\n",
    "# Input: r = index of row to fit, pixels = 2d array of pixel values\n",
    "    pars,cov = fitgaus(xdata, ydata)\n",
    "    return pars[2]"
   ]
  },
  {
   "cell_type": "markdown",
   "metadata": {},
   "source": [
    "## Example Code<a id='Example'></a>\n",
    "This example shows how to use the module functions to open a LUMICKS hdf5 file, extract and save the encoded image, and fit the middle horizontal line of the image with a gaussian in order to extract its sigma parameter. \n",
    "\n",
    "The image height in this example is 300 pixels so the \"middle\" would technically be at 149.5 pixels. We could average rows 149 and 150 together to be most precise, however the results will be nearly identical to simply rounding to row 150."
   ]
  },
  {
   "cell_type": "code",
   "execution_count": 131,
   "metadata": {},
   "outputs": [
    {
     "name": "stdout",
     "output_type": "stream",
     "text": [
      "sigma = 78.98 pixels\n"
     ]
    }
   ],
   "source": [
    "import numpy as np\n",
    "from numpy import exp\n",
    "import h5py\n",
    "import png\n",
    "from scipy.optimize import curve_fit\n",
    "import matplotlib.pyplot as plt\n",
    "\n",
    "data = openh5py('data.hdf5') # open the data file\n",
    "pixels = getpixelarray(data) # extract the image array\n",
    "savepng(pixels, 'image.png') # save the image\n",
    "\n",
    "ydata = pixels[150] # grab row #150 for fitting\n",
    "xdata = range(len(ydata))\n",
    "\n",
    "pars,cov = fitgaus(xdata, ydata) # fit with a gaussian\n",
    "sigma = pars[2] # get sigma from fit results\n",
    "\n",
    "print('sigma = %.2f pixels' %(sigma))"
   ]
  },
  {
   "cell_type": "markdown",
   "metadata": {},
   "source": [
    "We can also plot the fit results along with the data:"
   ]
  },
  {
   "cell_type": "code",
   "execution_count": 132,
   "metadata": {},
   "outputs": [
    {
     "data": {
      "image/png": "[encoded data removed]",
      "text/plain": [
       "<Figure size 432x288 with 1 Axes>"
      ]
     },
     "metadata": {
      "needs_background": "light"
     },
     "output_type": "display_data"
    }
   ],
   "source": [
    "plt.plot(xdata,ydata,label='data')\n",
    "plt.plot(xdata,gaussian(xdata,*pars),label='fit')\n",
    "plt.show()"
   ]
  }
 ],
 "metadata": {
  "kernelspec": {
   "display_name": "Python 3",
   "language": "python",
   "name": "python3"
  },
  "language_info": {
   "codemirror_mode": {
    "name": "ipython",
    "version": 3
   },
   "file_extension": ".py",
   "mimetype": "text/x-python",
   "name": "python",
   "nbconvert_exporter": "python",
   "pygments_lexer": "ipython3",
   "version": "3.8.3"
  }
 },
 "nbformat": 4,
 "nbformat_minor": 4
}
